{
 "cells": [
  {
   "cell_type": "code",
   "execution_count": null,
   "metadata": {},
   "outputs": [],
   "source": [
    "#hide\n",
    "from fastai.vision.all import *\n",
    "from ipywidgets import widgets \n",
    "from fastai.vision.widgets import *\n",
    "from my_timesaver_utils.bayes_inference import *"
   ]
  },
  {
   "cell_type": "code",
   "execution_count": null,
   "metadata": {},
   "outputs": [],
   "source": [
    "#hide\n",
    "path = Path()\n",
    "# path.ls(file_exts='.pkl')"
   ]
  },
  {
   "cell_type": "code",
   "execution_count": null,
   "metadata": {},
   "outputs": [],
   "source": [
    "learn_inf = load_learner(path/'export.pkl')"
   ]
  },
  {
   "cell_type": "markdown",
   "metadata": {},
   "source": [
    "# My Very Own (Really Cool!)  Image Classifier with a Fail (Uncertainty) Detector"
   ]
  },
  {
   "cell_type": "markdown",
   "metadata": {},
   "source": [
    "Classifier Categories:"
   ]
  },
  {
   "cell_type": "code",
   "execution_count": null,
   "metadata": {},
   "outputs": [],
   "source": [
    "for category in learn_inf.dls.vocab:\n",
    "    print(category)"
   ]
  },
  {
   "cell_type": "code",
   "execution_count": null,
   "metadata": {},
   "outputs": [],
   "source": [
    "def singularize(word):\n",
    "    prefix = 'a '\n",
    "    if word[-1] == 's':\n",
    "        word = word[:-1]\n",
    "    if word[0] in ('a','e','i','o','u'):\n",
    "        prefix = 'an '\n",
    "    return prefix + word\n",
    "\n",
    "def handle_bayes_prediction_with_uncertainty(res):\n",
    "    pass_threshold = res[0]\n",
    "    best_cat = singularize(res[7])\n",
    "    best_prob = res[5] * 100.\n",
    "    best_unc = res[4]\n",
    "    unc_msg1 = f\"Doesn't look like anything to me, but it could be {best_cat}\"\n",
    "    unc_msg2 = f' with a probability of {best_prob:.2f} percent ' \n",
    "    unc_msg3 = f'and uncertainty(entropy) of {best_unc:.2f}'\n",
    "    uncertain_msg = unc_msg1 + unc_msg2 + unc_msg3\n",
    "    certain_msg = f'To me, that looks like {best_cat}, with a probability of {best_prob:.2f}'\n",
    "    if not pass_threshold: \n",
    "        return uncertain_msg\n",
    "    return certain_msg\n",
    "\n",
    "btn_upload = SimpleNamespace(data = ['images/purple_dog.jpg'])\n",
    "img = PILImage.create(btn_upload.data[-1])\n",
    "out_pl = widgets.Output()\n",
    "out_pl.clear_output()\n",
    "with out_pl: display(img.to_thumb(200,200))\n",
    "res = learn_inf.bayes_predict_with_uncertainty(img)\n",
    "\n",
    "lbl_pred = widgets.Label()\n",
    "lbl_pred.value = handle_bayes_prediction_with_uncertainty(res)\n",
    "btn_run = widgets.Button(description='Classify')\n",
    "\n",
    "def on_click_classify(change):\n",
    "    img = PILImage.create(btn_upload.data[-1])\n",
    "    out_pl.clear_output()\n",
    "    with out_pl: display(img.to_thumb(200,200))\n",
    "    res = learn_inf.bayes_predict_with_uncertainty(img)\n",
    "    lbl_pred.value = handle_bayes_prediction_with_uncertainty(res)\n",
    "\n",
    "btn_run.on_click(on_click_classify)\n",
    "#Putting back btn_upload to a widget for next cell\n",
    "btn_upload = widgets.FileUpload()\n",
    "#hide_output\n",
    "VBox([widgets.Label('UPLOAD AN IMAGE AND CLASSIFY!'), \n",
    "      btn_upload, btn_run, out_pl, lbl_pred])"
   ]
  }
 ],
 "metadata": {
  "jupytext": {
   "split_at_heading": true
  },
  "kernelspec": {
   "display_name": "Python 3",
   "language": "python",
   "name": "python3"
  },
  "language_info": {
   "codemirror_mode": {
    "name": "ipython",
    "version": 3
   },
   "file_extension": ".py",
   "mimetype": "text/x-python",
   "name": "python",
   "nbconvert_exporter": "python",
   "pygments_lexer": "ipython3",
   "version": "3.7.7"
  },
  "varInspector": {
   "cols": {
    "lenName": 16,
    "lenType": 16,
    "lenVar": 40
   },
   "kernels_config": {
    "python": {
     "delete_cmd_postfix": "",
     "delete_cmd_prefix": "del ",
     "library": "var_list.py",
     "varRefreshCmd": "print(var_dic_list())"
    },
    "r": {
     "delete_cmd_postfix": ") ",
     "delete_cmd_prefix": "rm(",
     "library": "var_list.r",
     "varRefreshCmd": "cat(var_dic_list()) "
    }
   },
   "types_to_exclude": [
    "module",
    "function",
    "builtin_function_or_method",
    "instance",
    "_Feature"
   ],
   "window_display": false
  }
 },
 "nbformat": 4,
 "nbformat_minor": 1
}
